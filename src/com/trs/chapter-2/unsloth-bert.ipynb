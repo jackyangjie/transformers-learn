{
 "cells": [
  {
   "cell_type": "markdown",
   "id": "aa343386-9e35-4138-8500-0097b79938f0",
   "metadata": {},
   "source": [
    "## Step1 安装 unsloth\n"
   ]
  },
  {
   "cell_type": "code",
   "execution_count": 2,
   "id": "e31fbd79-79c6-439a-9924-332642da74b9",
   "metadata": {},
   "outputs": [],
   "source": [
    "import os\n",
    "import torch\n",
    "os.environ[\"https_proxy\"] = \"http://192.168.5.68:38080\"\n",
    "# os.environ[\"https_proxy\"] =\"\"\n",
    "os.environ[\"http_proxy\"] = \"\"\n",
    "\n",
    "# os.environ[\"CUDA_DEVICE_ORDER\"] = \"PCI_BUS_ID\"\n",
    "os.environ['CUDA_VISIBLE_DEVICES']='3'\n",
    "\n",
    "# !pip install --upgrade pip"
   ]
  },
  {
   "cell_type": "code",
   "execution_count": 2,
   "id": "1898bd95-b462-41e4-aad8-d49ea43ed04a",
   "metadata": {},
   "outputs": [],
   "source": [
    "# !pip install \"unsloth[colab-new] @ git+https://github.com/unslothai/unsloth.git\"\n",
    "# !pip install --no-deps xformers trl peft accelerate bitsandbytes"
   ]
  },
  {
   "cell_type": "markdown",
   "id": "693098fb-c663-45a3-947b-083934c5adc6",
   "metadata": {},
   "source": [
    "## Step 2 导入模型和tokenizer"
   ]
  },
  {
   "cell_type": "code",
   "execution_count": 6,
   "id": "4f4c6306-eba5-41bf-b869-d5ac81812f1e",
   "metadata": {},
   "outputs": [
    {
     "name": "stdout",
     "output_type": "stream",
     "text": [
      "==((====))==  Unsloth: Fast Llama patching release 2024.5\n",
      "   \\\\   /|    GPU: NVIDIA A800 80GB PCIe. Max memory: 79.151 GB. Platform = Linux.\n",
      "O^O/ \\_/ \\    Pytorch: 2.3.0+cu121. CUDA = 8.0. CUDA Toolkit = 12.1.\n",
      "\\        /    Bfloat16 = TRUE. Xformers = 0.0.26.post1. FA = False.\n",
      " \"-____-\"     Free Apache license: http://github.com/unslothai/unsloth\n"
     ]
    },
    {
     "data": {
      "application/vnd.jupyter.widget-view+json": {
       "model_id": "fc00dcecdc6c44d0935f3022e9662e09",
       "version_major": 2,
       "version_minor": 0
      },
      "text/plain": [
       "Loading checkpoint shards:   0%|          | 0/4 [00:00<?, ?it/s]"
      ]
     },
     "metadata": {},
     "output_type": "display_data"
    },
    {
     "name": "stderr",
     "output_type": "stream",
     "text": [
      "Special tokens have been added in the vocabulary, make sure the associated word embeddings are fine-tuned or trained.\n"
     ]
    }
   ],
   "source": [
    "from unsloth import FastLanguageModel\n",
    "import torch\n",
    "\n",
    "max_seq_length = 2048\n",
    "dtype=None\n",
    "load_in_4bit=False\n",
    "\n",
    "# model_name = \"unsloth/llama-3-8b-bnb-4bit\"\n",
    "model_name='/home/models/llama-3-chinese-8b-instruct-v2'\n",
    "model,tokenizer = FastLanguageModel.from_pretrained(\n",
    "                                                   model_name=model_name,\n",
    "                                                   max_seq_length=max_seq_length,\n",
    "                                                   dtype=dtype,\n",
    "                                                   load_in_4bit=load_in_4bit                                    \n",
    "                                                  )\n"
   ]
  },
  {
   "cell_type": "markdown",
   "id": "9ecc7aea-cb1d-4063-9715-6e9dfa4b15d4",
   "metadata": {},
   "source": [
    "## Step3 添加 LoRA 适配器，只需要更新所有参数的 1 到 10%"
   ]
  },
  {
   "cell_type": "code",
   "execution_count": 7,
   "id": "b4b4816b-c430-48a5-a4d5-b5a07ff0d744",
   "metadata": {},
   "outputs": [],
   "source": [
    "model = FastLanguageModel.get_peft_model(\n",
    "    model,\n",
    "    r=16,\n",
    "    target_modules=['q_proj','k_proj','v_proj','o_proj','gate_proj','up_proj','down_proj'],\n",
    "    lora_alpha=16,\n",
    "    lora_dropout=0,\n",
    "    bias='none',\n",
    "    use_gradient_checkpointing='unsloth',\n",
    "    random_state=3407,\n",
    "    use_rslora=False,\n",
    "    loftq_config=None,\n",
    ")"
   ]
  },
  {
   "cell_type": "markdown",
   "id": "ecf3bc9b-d556-469a-9537-05cd189f3429",
   "metadata": {},
   "source": [
    "## Step4 数据 处理"
   ]
  },
  {
   "cell_type": "code",
   "execution_count": 8,
   "id": "f65448f1-7c14-4b00-9773-d564d84d5b1d",
   "metadata": {},
   "outputs": [],
   "source": [
    "DEFAULT_SYSTEM_PROMPT = \"\"\"You are a helpful assistant. 你是一个乐于助人的助手。\"\"\"\n",
    "\n",
    "llama_8b_prompt=\"\"\"<|start_header_id|>system<|end_header_id|>\\n\\n{system_content}<|eot_id|>\n",
    "    <|start_header_id|>user<|end_header_id|>\\n\\n{input_content}<|eot_id|><|start_header_id|>assistant<|end_header_id|>\\n\\n\n",
    "    {output_content}<|eot_id|>\n",
    "\"\"\"\n",
    "\n",
    "# llama_8b_prompt=\"\"\"\n",
    "# ### System:\n",
    "# {system_content}\n",
    "\n",
    "# ### Input:\n",
    "# {input_content}\n",
    "\n",
    "# ### Response:\n",
    "# {output_content}\n",
    "# \"\"\"\n",
    "\n",
    "\n"
   ]
  },
  {
   "cell_type": "code",
   "execution_count": 9,
   "id": "46c40cf3-59ff-459f-9dba-31df990fa963",
   "metadata": {},
   "outputs": [
    {
     "data": {
      "text/plain": [
       "Dataset({\n",
       "    features: ['text'],\n",
       "    num_rows: 1980\n",
       "})"
      ]
     },
     "execution_count": 9,
     "metadata": {},
     "output_type": "execute_result"
    }
   ],
   "source": [
    "from datasets import load_dataset\n",
    "\n",
    "EOS_TOKEN = tokenizer.eos_token\n",
    "def proccess_func(examples):\n",
    "    instructions = examples[\"instruction\"]\n",
    "    inputs       = examples[\"input\"]\n",
    "    outputs      = examples[\"output\"]\n",
    "    texts = []\n",
    "    for instruction,input,output in zip(instructions,inputs,outputs):\n",
    "        text = llama_8b_prompt.format(system_content=DEFAULT_SYSTEM_PROMPT,\n",
    "                                      input_content=instruction+\"\\n\"+input,\n",
    "                                      output_content=output)+EOS_TOKEN\n",
    "        texts.append(text)\n",
    "    \n",
    "    return {\"text\":texts}\n",
    "\n",
    "dataset = load_dataset(path=\"./data\",data_files=['./llama_train.json','./llama_v.json'],split = \"train\")\n",
    "dataset = dataset.map(proccess_func,batched=True,remove_columns=dataset.column_names)\n",
    "dataset\n"
   ]
  },
  {
   "cell_type": "markdown",
   "id": "521cc32d-6fce-4ba4-a4f7-fb651e2e7610",
   "metadata": {},
   "source": [
    "## Step5 设置模型训练参数"
   ]
  },
  {
   "cell_type": "code",
   "execution_count": null,
   "id": "8bc38abf-b3d4-41ba-9495-c2beea8ccfa3",
   "metadata": {},
   "outputs": [
    {
     "name": "stderr",
     "output_type": "stream",
     "text": [
      "==((====))==  Unsloth - 2x faster free finetuning | Num GPUs = 1\n",
      "   \\\\   /|    Num examples = 1,980 | Num Epochs = 5\n",
      "O^O/ \\_/ \\    Batch size per device = 2 | Gradient Accumulation steps = 16\n",
      "\\        /    Total batch size = 32 | Total steps = 305\n",
      " \"-____-\"     Number of trainable parameters = 41,943,040\n"
     ]
    },
    {
     "data": {
      "text/html": [
       "\n",
       "    <div>\n",
       "      \n",
       "      <progress value='51' max='305' style='width:300px; height:20px; vertical-align: middle;'></progress>\n",
       "      [ 51/305 05:57 < 30:53, 0.14 it/s, Epoch 0.81/5]\n",
       "    </div>\n",
       "    <table border=\"1\" class=\"dataframe\">\n",
       "  <thead>\n",
       " <tr style=\"text-align: left;\">\n",
       "      <th>Step</th>\n",
       "      <th>Training Loss</th>\n",
       "    </tr>\n",
       "  </thead>\n",
       "  <tbody>\n",
       "  </tbody>\n",
       "</table><p>"
      ],
      "text/plain": [
       "<IPython.core.display.HTML object>"
      ]
     },
     "metadata": {},
     "output_type": "display_data"
    }
   ],
   "source": [
    "from trl import SFTTrainer\n",
    "from transformers import TrainingArguments\n",
    "from unsloth import is_bfloat16_supported\n",
    "\n",
    "args = TrainingArguments(\n",
    "    per_device_eval_batch_size=32,   #验证集批次大小\n",
    "    per_device_train_batch_size=2,   #训练集批次大小\n",
    "    gradient_accumulation_steps=16,  #梯度更新步数\n",
    "    warmup_steps=4,                  #模型训练预热步数\n",
    "    learning_rate=2e-4,              #学习率\n",
    "    num_train_epochs=5,               #训练轮数\n",
    "    fp16 = not is_bfloat16_supported(),  #是否支持16bit\n",
    "    bf16 = is_bfloat16_supported(),      #新 16bit\n",
    "    logging_steps = 50,                 #日志打印步数\n",
    "    save_strategy=\"epoch\",              #保存策略\n",
    "    optim = \"adamw_8bit\",                #优化函数\n",
    "    weight_decay = 0.01,                 # 权重衰减\n",
    "    lr_scheduler_type = \"linear\",        #学习率调度类型\n",
    "    seed = 3407,                         #数据数  \n",
    "    output_dir = \"./output\",             #模型保存文件\n",
    "    \n",
    ")\n",
    "\n",
    "\n",
    "trainer = SFTTrainer(\n",
    "    model=model,\n",
    "    args=args,\n",
    "    tokenizer=tokenizer,\n",
    "    train_dataset=dataset,\n",
    "    dataset_text_field='text',\n",
    "    max_seq_length=max_seq_length,\n",
    "    dataset_num_proc=2,\n",
    "    packing=False\n",
    "     )\n",
    "\n",
    "trainer_stats  = trainer.train()"
   ]
  },
  {
   "cell_type": "markdown",
   "id": "208ef71d-1b74-43da-b37e-eb3e397adf7b",
   "metadata": {},
   "source": [
    "## Step6 查询系统信息"
   ]
  },
  {
   "cell_type": "code",
   "execution_count": null,
   "id": "968c51ed-60f1-40c7-983f-9c3725b99bcd",
   "metadata": {},
   "outputs": [],
   "source": [
    "#@title Show current memory stats\n",
    "gpu_stats = torch.cuda.get_device_properties(0)\n",
    "start_gpu_memory = round(torch.cuda.max_memory_reserved() / 1024 / 1024 / 1024, 3)\n",
    "max_memory = round(gpu_stats.total_memory / 1024 / 1024 / 1024, 3)\n",
    "print(f\"GPU = {gpu_stats.name}. Max memory = {max_memory} GB.\")\n",
    "print(f\"{start_gpu_memory} GB of memory reserved.\")\n",
    "\n",
    "\n",
    "#@title Show final memory and time stats\n",
    "used_memory = round(torch.cuda.max_memory_reserved() / 1024 / 1024 / 1024, 3)\n",
    "used_memory_for_lora = round(used_memory - start_gpu_memory, 3)\n",
    "used_percentage = round(used_memory         /max_memory*100, 3)\n",
    "lora_percentage = round(used_memory_for_lora/max_memory*100, 3)\n",
    "print(f\"{trainer_stats.metrics['train_runtime']} seconds used for training.\")\n",
    "print(f\"{round(trainer_stats.metrics['train_runtime']/60, 2)} minutes used for training.\")\n",
    "print(f\"Peak reserved memory = {used_memory} GB.\")\n",
    "print(f\"Peak reserved memory for training = {used_memory_for_lora} GB.\")\n",
    "print(f\"Peak reserved memory % of max memory = {used_percentage} %.\")\n",
    "print(f\"Peak reserved memory for training % of max memory = {lora_percentage} %.\")"
   ]
  },
  {
   "cell_type": "markdown",
   "id": "09e77141-38e7-4076-94f0-84e3279f3127",
   "metadata": {},
   "source": [
    "## Step7模型测试 --直接返回完整的结果"
   ]
  },
  {
   "cell_type": "code",
   "execution_count": 13,
   "id": "e9305c97-8aad-411c-bc68-1fd966b41101",
   "metadata": {},
   "outputs": [],
   "source": [
    "\n",
    "\n",
    "# 使用FastLanguageModel进行推理加速\n",
    "FastLanguageModel.for_inference(model)\n",
    "\n",
    "DEFAULT_SYSTEM_PROMPT = \"\"\"You are a helpful assistant. 你是一个乐于助人的助手。\"\"\"\n",
    "input_content=\"\"\"\n",
    "    你是一个情报分析助手\\n5月21日，连云港籍重点人汪飞（男，身份证号320****985***1693X，东海县安峰镇人）因对被如东环保部门处罚不满携儿子汪博文（320****005****1235，如东县大豫镇人）到江苏省政府驻北京办事处（江苏饭店）门前拉出“救救我们全家人，救救我的妈妈” 维权标语。15时左右，汪飞在办事处门口服用百乐眠安眠药扬言自杀，被驻京办工作人员抠出，后汪飞被北京警方带离开展调查。23时50分左右，北京市公安局朝阳分局对汪飞服用安眠药行为作出治安警告处罚，后驻京工作人员将汪飞从派出所带回，汪飞自行前往住处，目前仍滞留北京。 介于汪飞携家人长期滞留北京，教育转化难度较大，性格固执，对如东工作组抵触情绪较强，存在重大隐患。特提请上级有关部门敦促汪飞户籍地连云港东海县有关部门共同做好该汪教育劝返工作。我局将继续密切关注该汪及家人在京动态，有情况将续报。\\n请分析文本数据转换成JSON格式数据\n",
    "\"\"\"\n",
    "output_content=\"\"\" \n",
    " \n",
    "\"\"\"\n",
    "\n",
    "\n",
    "\n",
    "inputs = tokenizer([\n",
    "    llama_8b_prompt.format(system_content=DEFAULT_SYSTEM_PROMPT,input_content=input_content,output_content=output_content)\n",
    "],return_tensors='pt',).to('cuda')\n"
   ]
  },
  {
   "cell_type": "code",
   "execution_count": 14,
   "id": "933ee2ad-dd64-4d6e-a440-cd25936797f2",
   "metadata": {},
   "outputs": [
    {
     "name": "stderr",
     "output_type": "stream",
     "text": [
      "Setting `pad_token_id` to `eos_token_id`:128001 for open-end generation.\n"
     ]
    },
    {
     "data": {
      "text/plain": [
       "['<|begin_of_text|>\\n### System:\\nYou are a helpful assistant. 你是一个乐于助人的助手。\\n\\n### Input:\\n\\n    你是一个情报分析助手\\n5月21日，连云港籍重点人汪飞（男，身份证号320****985***1693X，东海县安峰镇人）因对被如东环保部门处罚不满携儿子汪博文（320****005****1235，如东县大豫镇人）到江苏省政府驻北京办事处（江苏饭店）门前拉出“救救我们全家人，救救我的妈妈” 维权标语。15时左右，汪飞在办事处门口服用百乐眠安眠药扬言自杀，被驻京办工作人员抠出，后汪飞被北京警方带离开展调查。23时50分左右，北京市公安局朝阳分局对汪飞服用安眠药行为作出治安警告处罚，后驻京工作人员将汪飞从派出所带回，汪飞自行前往住处，目前仍滞留北京。 介于汪飞携家人长期滞留北京，教育转化难度较大，性格固执，对如东工作组抵触情绪较强，存在重大隐患。特提请上级有关部门敦促汪飞户籍地连云港东海县有关部门共同做好该汪教育劝返工作。我局将继续密切关注该汪及家人在京动态，有情况将续报。\\n请分析文本数据转换成JSON格式数据\\n\\n\\n### Response:\\n \\n \\n\\n{\\n    \"特征\": {\\n        \"事发时期\": [\\n            {\\n                \"label\": \"5月21日\",\\n                \"value\": \"5月21日\"\\n            }\\n        ],\\n        \"事件原因\": [\\n            {\\n                \"label\": \"事件原因>环境污染\",\\n                \"value\": \"因对被如东环保部门处罚不满\"\\n            }\\n        ],\\n        \"涉事地点\": [\\n            {\\n                \"label\": \"涉事地点>省会>省委省政府\",\\n                \"value\": \"到江苏省政府驻北京办事处\"\\n            }\\n        ],\\n        \"表现形式\": [\\n            {\\n                \"label\": \"表现形式>拉横幅\",\\n                \"value\": \"拉出“救救我们全家人，救救我的妈妈” 维权标语\"\\n            },\\n            {\\n                \"label\": \"表现形式>自杀威胁\",\\n                \"value\": \"汪飞在办事处门口服用百乐眠安眠药扬言自杀\"\\n            }\\n        ],\\n        \"涉事人数\": {\\n            \"label\": \"5人以下\"\\n        }\\n    },\\n    \"人物\": [\\n        {\\n            \"姓名\": \"汪飞\",\\n            \"身份证号\": \"320****985***1693X\",\\n            \"性别\": \"男\",\\n            \"背景身份\": \"重点人\"\\n        },\\n        {\\n            \"姓名\": \"汪博文\",\\n            \"身份证号\": \"320****005****1235\"\\n        }\\n    ],\\n    \"组织机构\": [],\\n    \"群体\": [],\\n    \"物品\": [],\\n    \"人物关系\": []\\n}\\n<|end_of_text|>']"
      ]
     },
     "execution_count": 14,
     "metadata": {},
     "output_type": "execute_result"
    }
   ],
   "source": [
    "\n",
    "output = model.generate(**inputs,max_new_tokens=max_seq_length,use_cache=True)\n",
    "decode_output = tokenizer.batch_decode(output)\n",
    "decode_output"
   ]
  },
  {
   "cell_type": "markdown",
   "id": "4c47c13f-95dd-4860-a9f1-ce007688224c",
   "metadata": {},
   "source": [
    "## step8 以流的形式输出"
   ]
  },
  {
   "cell_type": "code",
   "execution_count": 15,
   "id": "6d167b03-c0df-4b3a-b857-85fdc10d2c53",
   "metadata": {},
   "outputs": [
    {
     "name": "stderr",
     "output_type": "stream",
     "text": [
      "Setting `pad_token_id` to `eos_token_id`:128001 for open-end generation.\n"
     ]
    },
    {
     "name": "stdout",
     "output_type": "stream",
     "text": [
      "<|begin_of_text|>\n",
      "### System:\n",
      "You are a helpful assistant. 你是一个乐于助人的助手。\n",
      "\n",
      "### Input:\n",
      "\n",
      "    你是一个情报分析助手\n",
      "5月21日，连云港籍重点人汪飞（男，身份证号320****985***1693X，东海县安峰镇人）因对被如东环保部门处罚不满携儿子汪博文（320****005****1235，如东县大豫镇人）到江苏省政府驻北京办事处（江苏饭店）门前拉出“救救我们全家人，救救我的妈妈” 维权标语。15时左右，汪飞在办事处门口服用百乐眠安眠药扬言自杀，被驻京办工作人员抠出，后汪飞被北京警方带离开展调查。23时50分左右，北京市公安局朝阳分局对汪飞服用安眠药行为作出治安警告处罚，后驻京工作人员将汪飞从派出所带回，汪飞自行前往住处，目前仍滞留北京。 介于汪飞携家人长期滞留北京，教育转化难度较大，性格固执，对如东工作组抵触情绪较强，存在重大隐患。特提请上级有关部门敦促汪飞户籍地连云港东海县有关部门共同做好该汪教育劝返工作。我局将继续密切关注该汪及家人在京动态，有情况将续报。\n",
      "请分析文本数据转换成JSON格式数据\n",
      "\n",
      "\n",
      "### Response:\n",
      " \n",
      " \n",
      "\n",
      "{\n",
      "    \"特征\": {\n",
      "        \"事发时期\": [\n",
      "            {\n",
      "                \"label\": \"5月21日\",\n",
      "                \"value\": \"5月21日\"\n",
      "            }\n",
      "        ],\n",
      "        \"涉事地点\": [\n",
      "            {\n",
      "                \"label\": \"涉事地点>北京>中央党政军机关\",\n",
      "                \"value\": \"到江苏省政府驻北京办事处\"\n",
      "            }\n",
      "        ],\n",
      "        \"表现形式\": [\n",
      "            {\n",
      "                \"label\": \"表现形式>拉横幅\",\n",
      "                \"value\": \"连云港籍重点人汪飞（男，身份证号320****985***1693X，东海县安峰镇人）因对被如东环保部门处罚不满携儿子汪博文（320****005****1235，如东县大豫镇人）到江苏省政府驻北京办事处（江苏饭店）门前拉出“救救我们全家人，救救我的妈妈” 维权标语\"\n",
      "            },\n",
      "            {\n",
      "                \"label\": \"表现形式>扬言\",\n",
      "                \"value\": \"汪飞在办事处门口服用百乐眠安眠药扬言自杀\"\n",
      "            }\n",
      "        ],\n",
      "        \"涉事人数\": {\n",
      "            \"label\": \"5人以下\"\n",
      "        }\n",
      "    },\n",
      "    \"人物\": [\n",
      "        {\n",
      "            \"姓名\": \"汪飞\",\n",
      "            \"身份证号\": \"320****985***1693X\",\n",
      "            \"性别\": \"男\",\n",
      "            \"背景身份\": \"重点人\"\n",
      "        },\n",
      "        {\n",
      "            \"姓名\": \"汪博文\",\n",
      "            \"身份证号\": \"320****005****1235\",\n",
      "            \"性别\": \"男\"\n",
      "        }\n",
      "    ],\n",
      "    \"组织机构\": [],\n",
      "    \"群体\": [],\n",
      "    \"物品\": [],\n",
      "    \"人物关系\": []\n",
      "}\n",
      "<|end_of_text|>\n"
     ]
    }
   ],
   "source": [
    "from transformers import TextStreamer\n",
    "stream_tokenizer = TextStreamer(tokenizer)\n",
    "output_strem = model.generate(**inputs,streamer = stream_tokenizer,max_new_tokens=max_seq_length+100)\n"
   ]
  },
  {
   "cell_type": "code",
   "execution_count": 20,
   "id": "7b8b5dd6-9ecc-46ec-b1a4-895b74c75afa",
   "metadata": {},
   "outputs": [
    {
     "data": {
      "text/plain": [
       "'<|end_of_text|>'"
      ]
     },
     "execution_count": 20,
     "metadata": {},
     "output_type": "execute_result"
    }
   ],
   "source": [
    "eos_token =tokenizer.eos_token\n",
    "eos_token"
   ]
  },
  {
   "cell_type": "markdown",
   "id": "3ecd2de7-3d35-4734-ada9-ee418053917c",
   "metadata": {},
   "source": [
    "## Step9 加载训练完成的模型"
   ]
  },
  {
   "cell_type": "code",
   "execution_count": 31,
   "id": "35d0af41-4684-478a-95e6-8bd8db70473c",
   "metadata": {},
   "outputs": [
    {
     "name": "stdout",
     "output_type": "stream",
     "text": [
      "==((====))==  Unsloth: Fast Llama patching release 2024.5\n",
      "   \\\\   /|    GPU: NVIDIA A800 80GB PCIe. Max memory: 79.151 GB. Platform = Linux.\n",
      "O^O/ \\_/ \\    Pytorch: 2.3.0+cu121. CUDA = 8.0. CUDA Toolkit = 12.1.\n",
      "\\        /    Bfloat16 = TRUE. Xformers = 0.0.26.post1. FA = False.\n",
      " \"-____-\"     Free Apache license: http://github.com/unslothai/unsloth\n"
     ]
    },
    {
     "name": "stderr",
     "output_type": "stream",
     "text": [
      "Special tokens have been added in the vocabulary, make sure the associated word embeddings are fine-tuned or trained.\n"
     ]
    }
   ],
   "source": [
    "from peft import AutoPeftModelForCausalLM\n",
    "from transformers import AutoTokenizer\n",
    "\n",
    "\n",
    "# model.config\n",
    "lora_model_path = \"./output/checkpoint-305/\"\n",
    "lora_model,lora_tokenizer = FastLanguageModel.from_pretrained(\n",
    "        lora_model_path, # YOUR MODEL YOU USED FOR TRAINING\n",
    "        load_in_4bit = load_in_4bit,\n",
    "        max_seq_length=max_seq_length\n",
    "    )\n",
    "\n",
    "\n",
    "# lora_model.save_pretrained_merged('./model', lora_tokenizer, save_method = \"merged_4bit\",)\n"
   ]
  },
  {
   "cell_type": "markdown",
   "id": "e2b9b7f6-038e-462e-bd7a-f2228a348d20",
   "metadata": {},
   "source": [
    "## Step10 测试训练的模型"
   ]
  },
  {
   "cell_type": "code",
   "execution_count": 40,
   "id": "aa2cee2f-9385-4f50-9653-411b63c4905b",
   "metadata": {},
   "outputs": [
    {
     "name": "stderr",
     "output_type": "stream",
     "text": [
      "Setting `pad_token_id` to `eos_token_id`:128001 for open-end generation.\n"
     ]
    },
    {
     "name": "stdout",
     "output_type": "stream",
     "text": [
      "<|begin_of_text|>\n",
      "### System:\n",
      "You are a helpful assistant. 你是一个乐于助人的助手。\n",
      "\n",
      "### Input:\n",
      "\n",
      "    你是一个情报分析助手\n",
      "5月21日，连云港籍重点人汪飞（男，身份证号320****985***1693X，东海县安峰镇人）因对被如东环保部门处罚不满携儿子汪博文（320****005****1235，如东县大豫镇人）到江苏省政府驻北京办事处（江苏饭店）门前拉出“救救我们全家人，救救我的妈妈” 维权标语。15时左右，汪飞在办事处门口服用百乐眠安眠药扬言自杀，被驻京办工作人员抠出，后汪飞被北京警方带离开展调查。23时50分左右，北京市公安局朝阳分局对汪飞服用安眠药行为作出治安警告处罚，后驻京工作人员将汪飞从派出所带回，汪飞自行前往住处，目前仍滞留北京。 介于汪飞携家人长期滞留北京，教育转化难度较大，性格固执，对如东工作组抵触情绪较强，存在重大隐患。特提请上级有关部门敦促汪飞户籍地连云港东海县有关部门共同做好该汪教育劝返工作。我局将继续密切关注该汪及家人在京动态，有情况将续报。\n",
      "请分析文本数据转换成JSON格式数据\n",
      "\n",
      "\n",
      "### Response:\n",
      " \n",
      " \n",
      "\n",
      "{\n",
      "    \"特征\": {\n",
      "        \"事发时期\": [\n",
      "            {\n",
      "                \"label\": \"5月21日\",\n",
      "                \"value\": \"5月21日\"\n",
      "            }\n",
      "        ],\n",
      "        \"事件原因\": [\n",
      "            {\n",
      "                \"label\": \"事件原因>环境污染\",\n",
      "                \"value\": \"因对被如东环保部门处罚不满\"\n",
      "            }\n",
      "        ],\n",
      "        \"表现形式\": [\n",
      "            {\n",
      "                \"label\": \"表现形式>拉横幅\",\n",
      "                \"value\": \"到江苏省政府驻北京办事处（江苏饭店）门前拉出“救救我们全家人，救救我的妈妈” 维权标语\"\n",
      "            },\n",
      "            {\n",
      "                \"label\": \"表现形式>扬言\",\n",
      "                \"value\": \"扬言自杀\"\n",
      "            }\n",
      "        ],\n",
      "        \"涉事地点\": [\n",
      "            {\n",
      "                \"label\": \"涉事地点>北京>中央党政军机关\",\n",
      "                \"value\": \"到江苏省政府驻北京办事处（江苏饭店）门前\"\n",
      "            }\n",
      "        ],\n",
      "        \"涉事人数\": {\n",
      "            \"label\": \"5人以下\"\n",
      "        }\n",
      "    },\n",
      "    \"人物\": [\n",
      "        {\n",
      "            \"姓名\": \"汪飞\",\n",
      "            \"身份证号\": \"320****985***1693X\",\n",
      "            \"性别\": \"男\",\n",
      "            \"背景身份\": \"重点人\"\n",
      "        },\n",
      "        {\n",
      "            \"姓名\": \"汪博文\",\n",
      "            \"身份证号\": \"320****005****1235\",\n",
      "            \"性别\": \"男\"\n",
      "        }\n",
      "    ],\n",
      "    \"组织机构\": [],\n",
      "    \"群体\": [],\n",
      "    \"物品\": [],\n",
      "    \"人物关系\": []\n",
      "}\n",
      "<|end_of_text|>\n"
     ]
    },
    {
     "data": {
      "text/plain": [
       "tensor([[128000,    198,  14711,    744,    512,   2675,    527,    264,  11190,\n",
       "          18328,     13, 118195, 122503, 102264,  35304, 103129, 105390, 103129,\n",
       "          46034,   3490,  14711,   5688,   1473,    262, 118195, 122503,  40474,\n",
       "          43378, 106596, 103129,  46034,    198,     20,   9953,   1691,   9080,\n",
       "           3922,  56026, 103458, 103354, 108847, 121801,  17792,  21980,    103,\n",
       "         107163,  10110,  71208,   3922, 124176,  34577,  18476,   9588,    431,\n",
       "          24961,  12488,  11739,     18,     55,   3922,  68464,  56235,  25336,\n",
       "          51385, 110677, 104643,  17792,   7705,  63212,  33764, 101307,  30624,\n",
       "          68464,  87412,  33563, 112453,  45390, 118269,  16937, 105483, 120988,\n",
       "         103203,  45829,  21980,    103, 102216,  17161,  10110,   9588,    431,\n",
       "           8504,    431,   4513,     20, 116051,  68464,  25336,  27384,  44510,\n",
       "            104, 104643,  17792,   7705,  28037,  70277, 106864,  66870, 105212,\n",
       "          77180,    119,  70090, 103225,  30926,  45390,  10110,  70277, 106864,\n",
       "         117164,  72516,   7705,  65789,  25580,  73325,  20834,   2118, 108057,\n",
       "         108057,  98739,  37087,  46729,  17792,   3922, 108057, 108057,  98711,\n",
       "         111582, 111582,    863,  45154,    112,  42081,  31944,  73981,   1811,\n",
       "            868,  13646, 118396,   3922,  21980,    103, 107163,  19000, 103225,\n",
       "          30926,  45390,  65789,  40526,  44309,  11883, 102718, 102264, 120379,\n",
       "          51385, 120379, 107634, 121616,  78244,  37026, 108886, 122996,  77180,\n",
       "            119,  47653, 103225, 102301, 108585,  24326,    254,  20834,   3922,\n",
       "          34547,  21980,    103, 107163, 101307,  70090, 104970,  24273, 103652,\n",
       "         104787, 119662, 119652,   1811,   1419,  13646,   1135,  17620, 118396,\n",
       "           3922,  70090,  23530,  35417,  51385,  91077, 103293,  83175,  17620,\n",
       "          91077,  33764,  21980,    103, 107163,  44309,  11883,  51385, 120379,\n",
       "         107634, 116405,  19967,  20834,  71005,  51385, 104970,  58655,  45390,\n",
       "         118269,   3922,  34547,  77180,    119,  47653, 102301, 108585,  45163,\n",
       "          21980,    103, 107163,  46281, 105647,  20834,  32938, 103652,  18904,\n",
       "           3922,  21980,    103, 107163,  37026,  23039, 127554, 101987,  45390,\n",
       "           3922, 113230, 110618,  73597,    252, 104650,  70090,   1811,    220,\n",
       "          75910,  35304,  21980,    103, 107163, 120988,  46729,  17792,  46961,\n",
       "          23538,  73597,    252, 104650,  70090,   3922, 104378,  47770,  33208,\n",
       "         105142,  27479, 105842,  27384,   3922,  34171,  35083, 107608, 107904,\n",
       "         109543,  30624,  68464, 102301,  41127, 116875,  19658, 108376,  12774,\n",
       "            103, 105842, 103229,   3922,  48706, 125478, 117099, 111694,   1811,\n",
       "          66378,  29172,  15225,  17905,  53434, 113713, 112453, 121719, 113096,\n",
       "          21980,    103, 107163,  17982, 108847,  30590,  56026, 103458, 103354,\n",
       "          68464,  56235,  25336, 113713, 112453, 119046, 102210,  53901,  76982,\n",
       "          21980,    103, 104378,   8239,    251, 104196, 102301, 107030,  91077,\n",
       "          45163, 114638,  28741, 102769,  30356,  26130,  76982,  21980,    103,\n",
       "          82317,  46729,  17792,  19000,  47653,  28833,  36343, 106258, 106041,\n",
       "          45163, 105196,  43378,   9174,  15225, 106596,  17161,  22656,  20675,\n",
       "          47770,  72234,  13153,   5483,  69905,  20675,   1432,  14711,   6075,\n",
       "            512,    720,   4815,    517,    262,    330,  66378, 109568,    794,\n",
       "            341,    286,    330,  30926,  29391,  13646,  23538,    794,   2330,\n",
       "            310,    341,    394,    330,   1530,    794,    330,     20,   9953,\n",
       "           1691,   9080,    761,    394,    330,    970,    794,    330,     20,\n",
       "           9953,   1691,   9080,    702,    310,    457,    286,   3291,    286,\n",
       "            330,  58721, 113385,    794,   2330,    310,    341,    394,    330,\n",
       "           1530,    794,    330,  58721, 113385,     29, 110593, 116028, 108208,\n",
       "            761,    394,    330,    970,    794,    330,  63212,  33764, 101307,\n",
       "          30624,  68464,  87412,  33563, 112453,  45390, 118269,  16937, 105483,\n",
       "            702,    310,    457,    286,   3291,    286,    330, 125993, 115707,\n",
       "            794,   2330,    310,    341,    394,    330,   1530,    794,    330,\n",
       "         125993, 115707,     29,  73325, 109203, 111044,    761,    394,    330,\n",
       "            970,    794,    330,  28037,  70277, 106864,  66870, 105212,  77180,\n",
       "            119,  70090, 103225,  30926,  45390,  10110,  70277, 106864, 117164,\n",
       "          72516,   7705,  65789,  25580,  73325,  20834,   2118, 108057, 108057,\n",
       "          98739,  37087,  46729,  17792,   3922, 108057, 108057,  98711, 111582,\n",
       "         111582,    863,  45154,    112,  42081,  31944,  73981,    702,    310,\n",
       "           1173,    310,    341,    394,    330,   1530,    794,    330, 125993,\n",
       "         115707,     29, 121616,  78244,    761,    394,    330,    970,    794,\n",
       "            330, 121616,  78244,  37026, 108886,    702,    310,    457,    286,\n",
       "           3291,    286,    330, 117947,  30926, 124134,    794,   2330,    310,\n",
       "            341,    394,    330,   1530,    794,    330, 117947,  30926, 124134,\n",
       "             29,  70090,     29, 109432, 104478,  75513, 103626, 120832,    761,\n",
       "            394,    330,    970,    794,    330,  28037,  70277, 106864,  66870,\n",
       "         105212,  77180,    119,  70090, 103225,  30926,  45390,  10110,  70277,\n",
       "         106864, 117164,  72516,   7705,  65789,  25580,    702,    310,    457,\n",
       "            286,   3291,    286,    330, 117947,  30926,  17792,   9039,    794,\n",
       "            341,    310,    330,   1530,    794,    330,     20,  17792,  88852,\n",
       "            702,    286,    457,    262,   1173,    262,    330, 113679,    794,\n",
       "           2330,    286,    341,    310,    330,  67287,    794,    330,  21980,\n",
       "            103, 107163,    761,    310,    330, 124176,  34577,  18476,    794,\n",
       "            330,   9588,    431,  24961,  12488,  11739,     18,     55,    761,\n",
       "            310,    330,  34171,  64022,    794,    330,  71208,    761,    310,\n",
       "            330, 124858, 124176,    794,    330, 121801,  17792,    702,    286,\n",
       "           1173,    286,    341,    310,    330,  67287,    794,    330,  21980,\n",
       "            103, 102216,  17161,    761,    310,    330, 124176,  34577,  18476,\n",
       "            794,    330,   9588,    431,   8504,    431,   4513,     20,    761,\n",
       "            310,    330,  34171,  64022,    794,    330,  71208,    702,    286,\n",
       "            457,    262,   3291,    262,    330, 110063, 110123,    794,  10450,\n",
       "            262,    330, 104336,  33014,    794,  10450,    262,    330,  53953,\n",
       "          25446,    794,  10450,    262,    330, 113679, 110275,    794,   4260,\n",
       "            534, 128001]], device='cuda:0')"
      ]
     },
     "execution_count": 40,
     "metadata": {},
     "output_type": "execute_result"
    }
   ],
   "source": [
    "lora_model.generate(**inputs,streamer = stream_tokenizer,max_new_tokens=max_seq_length+100)\n"
   ]
  },
  {
   "cell_type": "markdown",
   "id": "ebbb8db5-fac5-4178-8d41-0bbf23976ac7",
   "metadata": {},
   "source": [
    "## Step 合并保存模型"
   ]
  },
  {
   "cell_type": "code",
   "execution_count": 44,
   "id": "a5c419bc-ef7e-44d7-816e-85c7a73bc345",
   "metadata": {},
   "outputs": [
    {
     "name": "stdout",
     "output_type": "stream",
     "text": [
      "Unsloth: Merging 4bit and LoRA weights to 4bit...\n",
      "This might take 5 minutes...\n"
     ]
    },
    {
     "name": "stderr",
     "output_type": "stream",
     "text": [
      "/usr/local/lib/python3.10/dist-packages/peft/tuners/lora/bnb.py:325: UserWarning: Merge lora module to 4-bit linear may get different generations due to rounding errors.\n",
      "  warnings.warn(\n"
     ]
    },
    {
     "name": "stdout",
     "output_type": "stream",
     "text": [
      "Done.\n",
      "Unsloth: Saving tokenizer... Done.\n",
      "Unsloth: Saving model... This might take 10 minutes for Llama-7b... Done.\n"
     ]
    }
   ],
   "source": [
    "##第一个参数是模型保存地址\n",
    "##第二个参数是训练后的 tokenizer\n",
    "##save_method 保存模型的方式 如果是4、8、16 bit合并会提示 合并会导致精度损失，是否进行合并，这里选择强制合并\n",
    "lora_model.save_pretrained_merged(\"models/llama3-8b\", lora_tokenizer, save_method = \"merged_4bit_forced\",)"
   ]
  },
  {
   "cell_type": "code",
   "execution_count": 1,
   "id": "f65bb61d-1175-49fc-b908-f54d9084c916",
   "metadata": {},
   "outputs": [
    {
     "name": "stdout",
     "output_type": "stream",
     "text": [
      "Package                                  Version\n",
      "---------------------------------------- --------------\n",
      "accelerate                               0.30.1\n",
      "aiohttp                                  3.9.5\n",
      "aiosignal                                1.3.1\n",
      "alembic                                  1.13.1\n",
      "annotated-types                          0.6.0\n",
      "anyio                                    4.3.0\n",
      "argon2-cffi                              23.1.0\n",
      "argon2-cffi-bindings                     21.2.0\n",
      "arrow                                    1.3.0\n",
      "asgiref                                  3.8.1\n",
      "asttokens                                2.4.1\n",
      "async-lru                                2.0.4\n",
      "async-timeout                            4.0.3\n",
      "attrs                                    23.2.0\n",
      "Babel                                    2.15.0\n",
      "backoff                                  2.2.1\n",
      "banal                                    1.0.6\n",
      "bcrypt                                   4.1.3\n",
      "beautifulsoup4                           4.12.3\n",
      "bitsandbytes                             0.43.1\n",
      "bleach                                   6.1.0\n",
      "blis                                     0.7.11\n",
      "build                                    1.2.1\n",
      "cachetools                               5.3.3\n",
      "catalogue                                2.0.10\n",
      "certifi                                  2024.2.2\n",
      "cffi                                     1.16.0\n",
      "chardet                                  5.2.0\n",
      "charset-normalizer                       3.3.2\n",
      "Chroma                                   0.2.0\n",
      "chroma-hnswlib                           0.7.3\n",
      "chromadb                                 0.5.0\n",
      "click                                    8.1.7\n",
      "cloudpathlib                             0.16.0\n",
      "coloredlogs                              15.0.1\n",
      "comm                                     0.2.2\n",
      "confection                               0.1.4\n",
      "cymem                                    2.0.8\n",
      "dataclasses-json                         0.6.6\n",
      "dataset                                  1.6.2\n",
      "datasets                                 2.19.1\n",
      "dbus-python                              1.2.18\n",
      "debugpy                                  1.8.1\n",
      "decorator                                5.1.1\n",
      "deepdiff                                 7.0.1\n",
      "defusedxml                               0.7.1\n",
      "Deprecated                               1.2.14\n",
      "dill                                     0.3.8\n",
      "dirtyjson                                1.0.8\n",
      "distro                                   1.9.0\n",
      "dnspython                                2.6.1\n",
      "docstring_parser                         0.16\n",
      "email_validator                          2.1.1\n",
      "emoji                                    2.11.1\n",
      "evaluate                                 0.4.2\n",
      "exceptiongroup                           1.2.1\n",
      "executing                                2.0.1\n",
      "fastapi                                  0.111.0\n",
      "fastapi-cli                              0.0.3\n",
      "fastjsonschema                           2.19.1\n",
      "filelock                                 3.14.0\n",
      "filetype                                 1.2.0\n",
      "flatbuffers                              24.3.25\n",
      "fqdn                                     1.5.1\n",
      "frozenlist                               1.4.1\n",
      "fsspec                                   2024.3.1\n",
      "gitdb                                    4.0.11\n",
      "GitPython                                3.1.43\n",
      "google-auth                              2.29.0\n",
      "googleapis-common-protos                 1.63.0\n",
      "greenlet                                 3.0.3\n",
      "grpcio                                   1.63.0\n",
      "h11                                      0.14.0\n",
      "html2text                                2024.2.26\n",
      "httpcore                                 1.0.5\n",
      "httptools                                0.6.1\n",
      "httpx                                    0.27.0\n",
      "huggingface-hub                          0.23.0\n",
      "humanfriendly                            10.0\n",
      "idna                                     3.7\n",
      "importlib-metadata                       7.0.0\n",
      "importlib_resources                      6.4.0\n",
      "ipykernel                                6.29.4\n",
      "ipython                                  8.24.0\n",
      "ipywidgets                               8.1.2\n",
      "isoduration                              20.11.0\n",
      "jedi                                     0.19.1\n",
      "Jinja2                                   3.1.4\n",
      "joblib                                   1.4.2\n",
      "json5                                    0.9.25\n",
      "jsonpatch                                1.33\n",
      "jsonpath-python                          1.0.6\n",
      "jsonpointer                              2.4\n",
      "jsonschema                               4.22.0\n",
      "jsonschema-specifications                2023.12.1\n",
      "jupyter                                  1.0.0\n",
      "jupyter_client                           8.6.1\n",
      "jupyter-console                          6.6.3\n",
      "jupyter_core                             5.7.2\n",
      "jupyter-events                           0.10.0\n",
      "jupyter-lsp                              2.2.5\n",
      "jupyter_server                           2.14.0\n",
      "jupyter_server_terminals                 0.5.3\n",
      "jupyterlab                               4.1.8\n",
      "jupyterlab_pygments                      0.3.0\n",
      "jupyterlab_server                        2.27.1\n",
      "jupyterlab_widgets                       3.0.10\n",
      "kubernetes                               29.0.0\n",
      "langchain                                0.1.20\n",
      "langchain-community                      0.0.38\n",
      "langchain-core                           0.1.52\n",
      "langchain-text-splitters                 0.0.1\n",
      "langcodes                                3.4.0\n",
      "langdetect                               1.0.9\n",
      "langsmith                                0.1.57\n",
      "language_data                            1.2.0\n",
      "llama-hub                                0.0.79.post1\n",
      "llama-index                              0.10.36\n",
      "llama-index-agent-openai                 0.2.4\n",
      "llama-index-cli                          0.1.12\n",
      "llama-index-core                         0.10.36\n",
      "llama-index-embeddings-huggingface       0.2.0\n",
      "llama-index-embeddings-openai            0.1.9\n",
      "llama-index-indices-managed-llama-cloud  0.1.6\n",
      "llama-index-legacy                       0.9.48\n",
      "llama-index-llms-ollama                  0.1.3\n",
      "llama-index-llms-openai                  0.1.19\n",
      "llama-index-multi-modal-llms-openai      0.1.6\n",
      "llama-index-program-openai               0.1.6\n",
      "llama-index-question-gen-openai          0.1.3\n",
      "llama-index-readers-file                 0.1.22\n",
      "llama-index-readers-llama-parse          0.1.4\n",
      "llama-parse                              0.4.2\n",
      "llamaindex-py-client                     0.1.19\n",
      "lxml                                     5.2.2\n",
      "Mako                                     1.3.5\n",
      "marisa-trie                              1.1.1\n",
      "markdown-it-py                           3.0.0\n",
      "MarkupSafe                               2.1.5\n",
      "marshmallow                              3.21.2\n",
      "matplotlib-inline                        0.1.7\n",
      "mdurl                                    0.1.2\n",
      "minijinja                                2.0.1\n",
      "mistune                                  3.0.2\n",
      "mmh3                                     4.1.0\n",
      "monotonic                                1.6\n",
      "mpmath                                   1.3.0\n",
      "multidict                                6.0.5\n",
      "multiprocess                             0.70.16\n",
      "murmurhash                               1.0.10\n",
      "mypy-extensions                          1.0.0\n",
      "nbclient                                 0.10.0\n",
      "nbconvert                                7.16.4\n",
      "nbformat                                 5.10.4\n",
      "nest-asyncio                             1.6.0\n",
      "networkx                                 3.3\n",
      "nltk                                     3.8.1\n",
      "notebook                                 7.1.3\n",
      "notebook_shim                            0.2.4\n",
      "numpy                                    1.26.4\n",
      "nvidia-cublas-cu12                       12.1.3.1\n",
      "nvidia-cuda-cupti-cu12                   12.1.105\n",
      "nvidia-cuda-nvrtc-cu12                   12.1.105\n",
      "nvidia-cuda-runtime-cu12                 12.1.105\n",
      "nvidia-cudnn-cu12                        8.9.2.26\n",
      "nvidia-cufft-cu12                        11.0.2.54\n",
      "nvidia-curand-cu12                       10.3.2.106\n",
      "nvidia-cusolver-cu12                     11.4.5.107\n",
      "nvidia-cusparse-cu12                     12.1.0.106\n",
      "nvidia-nccl-cu12                         2.20.5\n",
      "nvidia-nvjitlink-cu12                    12.4.127\n",
      "nvidia-nvtx-cu12                         12.1.105\n",
      "oauthlib                                 3.2.2\n",
      "onnxruntime                              1.17.3\n",
      "openai                                   1.29.0\n",
      "opentelemetry-api                        1.24.0\n",
      "opentelemetry-exporter-otlp-proto-common 1.24.0\n",
      "opentelemetry-exporter-otlp-proto-grpc   1.24.0\n",
      "opentelemetry-instrumentation            0.45b0\n",
      "opentelemetry-instrumentation-asgi       0.45b0\n",
      "opentelemetry-instrumentation-fastapi    0.45b0\n",
      "opentelemetry-proto                      1.24.0\n",
      "opentelemetry-sdk                        1.24.0\n",
      "opentelemetry-semantic-conventions       0.45b0\n",
      "opentelemetry-util-http                  0.45b0\n",
      "ordered-set                              4.1.0\n",
      "orjson                                   3.10.3\n",
      "overrides                                7.7.0\n",
      "packaging                                23.2\n",
      "pandas                                   2.2.2\n",
      "pandocfilters                            1.5.1\n",
      "parso                                    0.8.4\n",
      "peft                                     0.11.1\n",
      "pexpect                                  4.9.0\n",
      "pillow                                   10.3.0\n",
      "pip                                      24.0\n",
      "platformdirs                             4.2.1\n",
      "posthog                                  3.5.0\n",
      "preshed                                  3.0.9\n",
      "prometheus_client                        0.20.0\n",
      "prompt-toolkit                           3.0.43\n",
      "protobuf                                 3.20.3\n",
      "psutil                                   5.9.8\n",
      "ptyprocess                               0.7.0\n",
      "pure-eval                                0.2.2\n",
      "pyaml                                    23.12.0\n",
      "pyarrow                                  16.1.0\n",
      "pyarrow-hotfix                           0.6\n",
      "pyasn1                                   0.6.0\n",
      "pyasn1_modules                           0.4.0\n",
      "pycparser                                2.22\n",
      "pydantic                                 2.7.1\n",
      "pydantic_core                            2.18.2\n",
      "Pygments                                 2.18.0\n",
      "PyGObject                                3.42.1\n",
      "pypdf                                    4.2.0\n",
      "PyPika                                   0.48.9\n",
      "pyproject_hooks                          1.1.0\n",
      "pysqlite3-binary                         0.5.2.post3\n",
      "python-dateutil                          2.9.0.post0\n",
      "python-dotenv                            1.0.1\n",
      "python-iso639                            2024.4.27\n",
      "python-json-logger                       2.0.7\n",
      "python-magic                             0.4.27\n",
      "python-multipart                         0.0.9\n",
      "pytz                                     2024.1\n",
      "PyYAML                                   6.0.1\n",
      "pyzmq                                    26.0.3\n",
      "qtconsole                                5.5.2\n",
      "QtPy                                     2.4.1\n",
      "rapidfuzz                                3.9.0\n",
      "referencing                              0.35.1\n",
      "regex                                    2024.5.10\n",
      "requests                                 2.31.0\n",
      "requests-oauthlib                        2.0.0\n",
      "retrying                                 1.3.4\n",
      "rfc3339-validator                        0.1.4\n",
      "rfc3986-validator                        0.1.1\n",
      "rich                                     13.7.1\n",
      "rpds-py                                  0.18.1\n",
      "rsa                                      4.9\n",
      "safetensors                              0.4.3\n",
      "scikit-learn                             1.4.2\n",
      "scipy                                    1.13.0\n",
      "Send2Trash                               1.8.3\n",
      "sentence-transformers                    2.7.0\n",
      "sentencepiece                            0.2.0\n",
      "setuptools                               59.6.0\n",
      "shellingham                              1.5.4\n",
      "shtab                                    1.7.1\n",
      "six                                      1.16.0\n",
      "smart-open                               6.4.0\n",
      "smmap                                    5.0.1\n",
      "sniffio                                  1.3.1\n",
      "soupsieve                                2.5\n",
      "spacy                                    3.7.4\n",
      "spacy-legacy                             3.0.12\n",
      "spacy-loggers                            1.0.5\n",
      "SQLAlchemy                               1.4.52\n",
      "srsly                                    2.4.8\n",
      "ssh-import-id                            5.11\n",
      "stack-data                               0.6.3\n",
      "starlette                                0.37.2\n",
      "striprtf                                 0.0.26\n",
      "sympy                                    1.12\n",
      "tabulate                                 0.9.0\n",
      "tenacity                                 8.3.0\n",
      "terminado                                0.18.1\n",
      "thinc                                    8.2.3\n",
      "threadpoolctl                            3.5.0\n",
      "tiktoken                                 0.7.0\n",
      "tinycss2                                 1.3.0\n",
      "tokenizers                               0.19.1\n",
      "tomli                                    2.0.1\n",
      "torch                                    2.3.0\n",
      "tornado                                  6.4\n",
      "tqdm                                     4.66.4\n",
      "traitlets                                5.14.3\n",
      "transformers                             4.40.2\n",
      "triton                                   2.3.0\n",
      "trl                                      0.8.6\n",
      "typer                                    0.9.4\n",
      "types-python-dateutil                    2.9.0.20240316\n",
      "typing_extensions                        4.11.0\n",
      "typing-inspect                           0.9.0\n",
      "tyro                                     0.8.4\n",
      "tzdata                                   2024.1\n",
      "ujson                                    5.10.0\n",
      "unsloth                                  2024.5\n",
      "unstructured                             0.13.7\n",
      "unstructured-client                      0.22.0\n",
      "uri-template                             1.3.0\n",
      "urllib3                                  2.2.1\n",
      "uvicorn                                  0.29.0\n",
      "uvloop                                   0.19.0\n",
      "wasabi                                   1.1.2\n",
      "watchfiles                               0.21.0\n",
      "wcwidth                                  0.2.13\n",
      "weasel                                   0.3.4\n",
      "webcolors                                1.13\n",
      "webencodings                             0.5.1\n",
      "websocket-client                         1.8.0\n",
      "websockets                               12.0\n",
      "wheel                                    0.43.0\n",
      "widgetsnbextension                       4.0.10\n",
      "wrapt                                    1.16.0\n",
      "xformers                                 0.0.26.post1\n",
      "xlrd                                     2.0.1\n",
      "xxhash                                   3.4.1\n",
      "yarl                                     1.9.4\n",
      "zipp                                     3.18.1\n",
      "Note: you may need to restart the kernel to use updated packages.\n"
     ]
    }
   ],
   "source": [
    "pip list"
   ]
  },
  {
   "cell_type": "code",
   "execution_count": null,
   "id": "aeac408e-0aa8-4c5c-81cf-6e173f53a060",
   "metadata": {},
   "outputs": [],
   "source": []
  }
 ],
 "metadata": {
  "kernelspec": {
   "display_name": "Python 3 (ipykernel)",
   "language": "python",
   "name": "python3"
  },
  "language_info": {
   "codemirror_mode": {
    "name": "ipython",
    "version": 3
   },
   "file_extension": ".py",
   "mimetype": "text/x-python",
   "name": "python",
   "nbconvert_exporter": "python",
   "pygments_lexer": "ipython3",
   "version": "3.10.12"
  }
 },
 "nbformat": 4,
 "nbformat_minor": 5
}
